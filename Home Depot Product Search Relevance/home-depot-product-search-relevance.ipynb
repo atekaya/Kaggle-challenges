{
 "cells": [
  {
   "cell_type": "code",
   "execution_count": 1,
   "metadata": {
    "collapsed": false
   },
   "outputs": [],
   "source": [
    "# This Python 3 environment comes with many helpful analytics libraries installed\n",
    "# It is defined by the kaggle/python docker image: https://github.com/kaggle/docker-python\n",
    "# For example, here's several helpful packages to load in \n",
    "\n",
    "import numpy as np # linear algebra\n",
    "import pandas as pd # data processing, CSV file I/O (e.g. pd.read_csv)"
   ]
  },
  {
   "cell_type": "code",
   "execution_count": 2,
   "metadata": {
    "collapsed": true
   },
   "outputs": [],
   "source": [
    "# load files\n",
    "train_data = pd.read_csv(\"input/train.csv\", encoding=\"ISO-8859-1\")\n",
    "test_data = pd.read_csv(\"input/test.csv\", encoding=\"ISO-8859-1\")\n",
    "att_data = pd.read_csv(\"input/attributes.csv\")\n",
    "descriptions = pd.read_csv(\"input/product_descriptions.csv\")"
   ]
  },
  {
   "cell_type": "code",
   "execution_count": 3,
   "metadata": {
    "collapsed": false
   },
   "outputs": [],
   "source": [
    "from nltk.stem.snowball import SnowballStemmer\n",
    "from nltk.corpus import stopwords\n",
    "stop = stopwords.words('english')\n",
    "stemmer = SnowballStemmer('english')\n",
    "def stm(s):\n",
    "    return ' '.join([stemmer.stem(word)  for word in str(s).split() if word not in stop])"
   ]
  },
  {
   "cell_type": "code",
   "execution_count": 4,
   "metadata": {
    "collapsed": true
   },
   "outputs": [],
   "source": [
    "train_data['search_term']=train_data['search_term'].map(lambda x: stm(x))\n",
    "descriptions['product_description']=descriptions['product_description'].map(lambda x: stm(x))\n",
    "brands=att_data[['product_uid','value']][att_data.name=='MFG Brand Name']"
   ]
  },
  {
   "cell_type": "code",
   "execution_count": 5,
   "metadata": {
    "collapsed": true
   },
   "outputs": [],
   "source": [
    "att_data['value']=att_data['value'].map(lambda x: stm(x))\n",
    "ser_att=pd.Series()\n",
    "for p,v in zip(att_data['product_uid'],att_data['value']):\n",
    "\ts=' '.join([str(ser_att.get(p,'')),v])\n",
    "\tser_att[p]=s"
   ]
  },
  {
   "cell_type": "code",
   "execution_count": 6,
   "metadata": {
    "collapsed": true
   },
   "outputs": [],
   "source": [
    "#count how many occurence if search items in  a string s\n",
    "def search_in_str(search,s):\n",
    "    return sum([s.count(term) for term in search.split()])\n",
    "\n",
    "#count how many terms of search_term are in a string s\n",
    "def count_search(search,s):\n",
    "    return sum(int(s.find(sr)>=0) for sr in search.split())"
   ]
  },
  {
   "cell_type": "code",
   "execution_count": 7,
   "metadata": {
    "collapsed": true
   },
   "outputs": [],
   "source": [
    "train_data=train_data.merge(brands,how='left',on='product_uid')\n",
    "train_data.columns=['id', 'product_uid', 'product_title', 'search_term', 'relevance','brand']\n",
    "train_data=train_data.merge(descriptions,how='left',on='product_uid')\n",
    "train_data['search_in_title']=[search_in_str(x,y) for (x,y) in zip(train_data['search_term'],train_data['product_title'])]\n",
    "train_data['search_in_brand']=[search_in_str(str(x),str(y)) for (x,y) in zip(train_data['search_term'],train_data['brand'])]\n",
    "train_data['search_in_desc']=[search_in_str(str(x),str(y)) for (x,y) in zip(train_data['search_term'],train_data['product_description'])]\n",
    "train_data['attr']=train_data['product_uid'].map(lambda x: ser_att.get(x,''))\n",
    "train_data['search_in_att']=[search_in_str(str(x),str(y)) for (x,y) in zip(train_data['search_term'],train_data['attr'])]\n",
    "\n",
    "train_data['c_search_in_title']=[count_search(x,y) for (x,y) in zip(train_data['search_term'],train_data['product_title'])]\n",
    "train_data['c_search_in_brand']=[count_search(str(x),str(y)) for (x,y) in zip(train_data['search_term'],train_data['brand'])]\n",
    "train_data['c_search_in_desc']=[count_search(str(x),str(y)) for (x,y) in zip(train_data['search_term'],train_data['product_description'])]\n",
    "train_data['c_search_in_att']=[count_search(str(x),str(y)) for (x,y) in zip(train_data['search_term'],train_data['attr'])]\n",
    "\n",
    "#del train_data['attr']\n",
    "#del train_data['product_title']\n",
    "#del train_data['brand']\n",
    "#del train_data['product_description']"
   ]
  },
  {
   "cell_type": "code",
   "execution_count": 16,
   "metadata": {
    "collapsed": false
   },
   "outputs": [
    {
     "name": "stdout",
     "output_type": "stream",
     "text": [
      "0.523181123155\n"
     ]
    }
   ],
   "source": [
    "from sklearn.ensemble import RandomForestRegressor\n",
    "from sklearn import cross_validation\n",
    "import math\n",
    "rf = RandomForestRegressor(n_estimators=15, max_depth=3)\n",
    "\n",
    "predictors=['search_in_title','search_in_brand','search_in_desc','search_in_att']\n",
    "scores=cross_validation.cross_val_score(rf,train_data[predictors],train_data['relevance'],cv=5,scoring='mean_squared_error')\n",
    "print(np.mean([math.sqrt(-x) for x in scores]))"
   ]
  },
  {
   "cell_type": "code",
   "execution_count": 18,
   "metadata": {
    "collapsed": false
   },
   "outputs": [
    {
     "name": "stdout",
     "output_type": "stream",
     "text": [
      "0.52219732502\n"
     ]
    }
   ],
   "source": [
    "c_rf=RandomForestRegressor(n_estimators=15,max_depth=3)\n",
    "\n",
    "c_predictors=['c_search_in_title','c_search_in_brand','c_search_in_desc','c_search_in_att']\n",
    "c_scores=cross_validation.cross_val_score(rf,train_data[c_predictors],train_data['relevance'],cv=5,scoring='mean_squared_error')\n",
    "print(np.mean([math.sqrt(-x) for x in c_scores]))"
   ]
  },
  {
   "cell_type": "code",
   "execution_count": 20,
   "metadata": {
    "collapsed": false
   },
   "outputs": [
    {
     "name": "stdout",
     "output_type": "stream",
     "text": [
      "0.526551430572\n"
     ]
    }
   ],
   "source": [
    "from sklearn.tree import DecisionTreeRegressor\n",
    "from sklearn.ensemble import AdaBoostRegressor\n",
    "abr=AdaBoostRegressor(DecisionTreeRegressor(max_depth=3),n_estimators=15)\n",
    "abr_scores=cross_validation.cross_val_score(abr,train_data[c_predictors],train_data['relevance'],cv=5,scoring='mean_squared_error')\n",
    "print(np.mean([math.sqrt(-x) for x in abr_scores]))"
   ]
  },
  {
   "cell_type": "code",
   "execution_count": 22,
   "metadata": {
    "collapsed": false
   },
   "outputs": [],
   "source": [
    "test_data = pd.read_csv(\"input/test.csv\", encoding=\"ISO-8859-1\")\n",
    "test_data['search_term']=test_data['search_term'].map(lambda x: stm(x))\n",
    "test_data=test_data.merge(brands,how='left',on='product_uid')\n",
    "test_data.columns=['id', 'product_uid', 'product_title', 'search_term','brand']\n",
    "test_data=test_data.merge(descriptions,how='left',on='product_uid')\n",
    "test_data['search_in_title']=[search_in_str(x,y) for (x,y) in zip(test_data['search_term'],test_data['product_title'])]\n",
    "test_data['search_in_brand']=[search_in_str(str(x),str(y)) for (x,y) in zip(test_data['search_term'],test_data['brand'])]\n",
    "test_data['search_in_desc']=[search_in_str(str(x),str(y)) for (x,y) in zip(test_data['search_term'],test_data['product_description'])]\n",
    "test_data['attr']=test_data['product_uid'].map(lambda x: ser_att.get(x,''))\n",
    "test_data['search_in_att']=[search_in_str(str(x),str(y)) for (x,y) in zip(test_data['search_term'],test_data['attr'])]"
   ]
  },
  {
   "cell_type": "code",
   "execution_count": 24,
   "metadata": {
    "collapsed": false
   },
   "outputs": [],
   "source": [
    "y_train = train_data['relevance'].values\n",
    "X_train = train_data[predictors].values\n",
    "X_test = test_data[predictors].values\n",
    "id_test = test_data['id']\n",
    "\n",
    "from sklearn.ensemble import RandomForestRegressor\n",
    "rf_for_sub = RandomForestRegressor(n_estimators=15, max_depth=3)\n",
    "rf_for_sub.fit(X_train, y_train)\n",
    "y_pred = rf_for_sub.predict(X_test)\n",
    "\n",
    "pd.DataFrame({\"id\": id_test, \"relevance\": y_pred}).to_csv('submission.csv',index=False)"
   ]
  },
  {
   "cell_type": "markdown",
   "metadata": {},
   "source": [
    "This submission got a score of 0.52235 on Kaggle "
   ]
  },
  {
   "cell_type": "code",
   "execution_count": 28,
   "metadata": {
    "collapsed": false
   },
   "outputs": [],
   "source": [
    "test_data['c_search_in_title']=[count_search(x,y) for (x,y) in zip(test_data['search_term'],test_data['product_title'])]\n",
    "test_data['c_search_in_brand']=[count_search(str(x),str(y)) for (x,y) in zip(test_data['search_term'],test_data['brand'])]\n",
    "test_data['c_search_in_desc']=[count_search(str(x),str(y)) for (x,y) in zip(test_data['search_term'],test_data['product_description'])]\n",
    "test_data['c_search_in_att']=[count_search(str(x),str(y)) for (x,y) in zip(test_data['search_term'],test_data['attr'])]"
   ]
  },
  {
   "cell_type": "code",
   "execution_count": 29,
   "metadata": {
    "collapsed": false
   },
   "outputs": [],
   "source": [
    "y_train = train_data['relevance'].values\n",
    "X_train = train_data[c_predictors].values\n",
    "X_test = test_data[c_predictors].values\n",
    "id_test = test_data['id']\n",
    "\n",
    "from sklearn.ensemble import RandomForestRegressor\n",
    "c_rf_for_sub = RandomForestRegressor(n_estimators=15, max_depth=3)\n",
    "c_rf_for_sub.fit(X_train, y_train)\n",
    "y_pred = c_rf_for_sub.predict(X_test)\n",
    "\n",
    "pd.DataFrame({\"id\": id_test, \"relevance\": y_pred}).to_csv('submission.csv',index=False)"
   ]
  },
  {
   "cell_type": "markdown",
   "metadata": {},
   "source": [
    "This submission got a score of 0.52168 on Kaggle "
   ]
  },
  {
   "cell_type": "code",
   "execution_count": null,
   "metadata": {
    "collapsed": true
   },
   "outputs": [],
   "source": []
  }
 ],
 "metadata": {
  "kernelspec": {
   "display_name": "Python 3",
   "language": "python",
   "name": "python3"
  },
  "language_info": {
   "codemirror_mode": {
    "name": "ipython",
    "version": 3
   },
   "file_extension": ".py",
   "mimetype": "text/x-python",
   "name": "python",
   "nbconvert_exporter": "python",
   "pygments_lexer": "ipython3",
   "version": "3.5.1"
  }
 },
 "nbformat": 4,
 "nbformat_minor": 0
}
